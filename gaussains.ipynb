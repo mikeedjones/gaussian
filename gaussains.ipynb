{
 "cells": [
  {
   "cell_type": "code",
   "execution_count": 1,
   "metadata": {},
   "outputs": [],
   "source": [
    "import matplotlib.pyplot as plt\n",
    "import matplotlib.lines as lines\n",
    "import numpy as np\n",
    "import ipywidgets as widgets\n",
    "from matplotlib import cm\n",
    "from matplotlib.colors import ListedColormap, LinearSegmentedColormap\n",
    "from mpl_toolkits.mplot3d import Axes3D\n",
    "\n",
    "cmaps = [   'Greys', 'Purples', 'Blues', 'Greens', 'Oranges', 'Reds',\n",
    "            'YlOrBr', 'YlOrRd', 'OrRd', 'PuRd', 'RdPu', 'BuPu',\n",
    "            'GnBu', 'PuBu', 'YlGnBu', 'PuBuGn', 'BuGn', 'YlGn','viridis',\n",
    "            'plasma', 'inferno', 'magma', 'cividis','binary', 'gist_yarg', 'gist_gray', 'gray', 'bone', 'pink',\n",
    "            'spring', 'summer', 'autumn', 'winter', 'cool', 'Wistia',\n",
    "            'hot', 'afmhot', 'gist_heat', 'copper','PiYG', 'PRGn', 'BrBG', 'PuOr', 'RdGy', 'RdBu',\n",
    "            'RdYlBu', 'RdYlGn', 'Spectral', 'coolwarm', 'bwr', 'seismic','twilight', 'twilight_shifted', 'hsv',\n",
    "            'Pastel1', 'Pastel2', 'Paired', 'Accent',\n",
    "            'Dark2', 'Set1', 'Set2', 'Set3',\n",
    "            'tab10', 'tab20', 'tab20b', 'tab20c', 'flag', 'prism', 'ocean', 'gist_earth', 'terrain', 'gist_stern',\n",
    "            'gnuplot', 'gnuplot2', 'CMRmap', 'cubehelix', 'brg',\n",
    "            'gist_rainbow', 'rainbow', 'jet', 'nipy_spectral', 'gist_ncar']\n",
    "\n",
    "\n",
    "\n",
    "def twoD_Gaussian(xy, amplitude, xo, yo, sigma_x, sigma_y, theta, offset):\n",
    "    x, y = xy\n",
    "    xo = float(xo)\n",
    "    yo = float(yo) \n",
    "\n",
    "    a = (np.cos(theta)**2)/(2*sigma_x**2) + (np.sin(theta)**2)/(2*sigma_y**2)\n",
    "    b = -(np.sin(2*theta))/(4*sigma_x**2) + (np.sin(2*theta))/(4*sigma_y**2)\n",
    "    c = (np.sin(theta)**2)/(2*sigma_x**2) + (np.cos(theta)**2)/(2*sigma_y**2)\n",
    "    g = amplitude*np.exp( - (a*((x-xo)**2) + 2*b*(x-xo)*(y-yo) \n",
    "                            + c*((y-yo)**2)))+offset\n",
    "    return g\n",
    "\n",
    "def circle(x,r):\n",
    "    return np.sqrt(r**2-y**2)\n",
    "\n",
    "x_l = np.linspace(-1,1,100)\n",
    "y_l = np.linspace(-1,1,100)\n",
    "\n",
    "x,y = np.meshgrid(x_l, y_l)\n",
    "xy=x,y\n"
   ]
  },
  {
   "cell_type": "code",
   "execution_count": 7,
   "metadata": {},
   "outputs": [],
   "source": [
    "def plot_gaussain(sigma,amplitude,power,color,savefig=False,fade_to_white=True):\n",
    "    xo=0\n",
    "    yo=0\n",
    "    amplitude=amplitude\n",
    "    sigma_x=sigma\n",
    "    sigma_y=sigma\n",
    "    theta=0\n",
    "    offset=0\n",
    "    \n",
    "    N = 256\n",
    "    n=50\n",
    "    basemap = cm.get_cmap(color, N)\n",
    "    R=basemap(n)[0]\n",
    "    G=basemap(n)[1]\n",
    "    B=basemap(n)[2]\n",
    "    vals = basemap(np.linspace(0, 1, 256))\n",
    "    if fade_to_white == True:\n",
    "        vals[:n, 0] = np.linspace(1, R, n)\n",
    "        vals[:n, 1] = np.linspace(1, G, n)\n",
    "        vals[:n, 2] = np.linspace(1, B, n)\n",
    "    newcmp = ListedColormap(vals)\n",
    "    \n",
    "    g=twoD_Gaussian(xy, amplitude, xo, yo, sigma_x, sigma_y, theta, offset)\n",
    "\n",
    "    fig = plt.figure()\n",
    "    ax = fig.add_subplot(1, 1, 1)\n",
    "\n",
    "    # Move left y-axis and bottim x-axis to centre, passing through (0,0)\n",
    "    ax.spines['left'].set_position('center')\n",
    "    ax.spines['bottom'].set_position('center')\n",
    "\n",
    "    # Eliminate upper and right axes\n",
    "    ax.spines['right'].set_color('none')\n",
    "    ax.spines['top'].set_color('none')\n",
    "\n",
    "    # Show ticks in the left and lower axes only\n",
    "    # ax.xaxis.set_ticks_position('bottom')\n",
    "    # ax.yaxis.set_ticks_position('left')\n",
    "\n",
    "    plt.imshow(g**power,cmap=newcmp,vmax=1,extent=[min(x_l),max(x_l),max(y_l),min(y_l)],interpolation='bicubic')\n",
    "\n",
    "    # ax=plt.gcf().gca()\n",
    "    # ax.add_artist(circle1)\n",
    "    # ax.add_artist(circle2)\n",
    "\n",
    "    # plt.arrow(0, 0, c1*np.sin(np.pi/4), -c1*np.cos(np.pi/4),color='b')\n",
    "\n",
    "    #plt.xticks([])#[1],[\"$v_x$\"])\n",
    "    #plt.yticks([])#[-1],[\"$v_y$\"])\n",
    "    plt.scatter([0],[0],s=0.1)\n",
    "    plt.axis('off')\n",
    "    if savefig==True:\n",
    "        plt.savefig('gaussian.pdf')\n",
    "    \n",
    "    return sigma,amplitude,power,color\n",
    "    \n",
    "\n"
   ]
  },
  {
   "cell_type": "code",
   "execution_count": 8,
   "metadata": {},
   "outputs": [
    {
     "data": {
      "application/vnd.jupyter.widget-view+json": {
       "model_id": "72762c71b122469c880613860daf13eb",
       "version_major": 2,
       "version_minor": 0
      },
      "text/plain": [
       "interactive(children=(FloatSlider(value=0.5, description='sigma', max=1.0, min=0.1), FloatSlider(value=0.41000…"
      ]
     },
     "metadata": {},
     "output_type": "display_data"
    }
   ],
   "source": [
    "button = widgets.Button(description=\"Savefig\")\n",
    "g=widgets.interactive(plot_gaussain,sigma=(0.1,1,0.1),amplitude=(0.01,1,0.1),power=(0.1,1,0.1),color=cmaps)\n",
    "display(g)\n",
    "\n",
    "#button.on_click(plot_gaussain(*g.result,savefig=True))\n",
    "#display(button)\n"
   ]
  },
  {
   "cell_type": "code",
   "execution_count": 17,
   "metadata": {},
   "outputs": [],
   "source": [
    "def plot_gaussain_mesh(sigma,amplitude,color,wireframe,elevation=30, azimuthial=30,savefig=False,fade_to_white=True):\n",
    "    xo=0\n",
    "    yo=0\n",
    "    amplitude=amplitude\n",
    "    sigma_x=sigma\n",
    "    sigma_y=sigma\n",
    "    theta=0\n",
    "    offset=0\n",
    "    \n",
    "    N = 256\n",
    "    n=50\n",
    "    basemap = cm.get_cmap(color, N)\n",
    "    vals = basemap(np.linspace(0, amplitude, 256))\n",
    "    R=vals[n][0]\n",
    "    G=vals[n][1]\n",
    "    B=vals[n][2]\n",
    "    if fade_to_white == True:\n",
    "        vals[:n, 0] = np.linspace(1, R, n)\n",
    "        vals[:n, 1] = np.linspace(1, G, n)\n",
    "        vals[:n, 2] = np.linspace(1, B, n)\n",
    "    newcmp = ListedColormap(vals)\n",
    "    \n",
    "    g=twoD_Gaussian(xy, amplitude, xo, yo, sigma_x, sigma_y, theta, offset)\n",
    "\n",
    "    fig = plt.figure()\n",
    "    ax = fig.add_subplot(111, projection='3d')\n",
    "    if wireframe == True:\n",
    "        ax.plot_surface(x, y, g, linewidth=0.2, edgecolor=\"k\",cmap=newcmp,rstride=5, cstride=5)\n",
    "    else :\n",
    "        ax.plot_surface(x, y, g,cmap=newcmp,rstride=5, cstride=5)\n",
    "    ax.view_init(elevation, azimuthial)\n",
    "    \n",
    "    plt.scatter([0],[0],s=0.1)\n",
    "    plt.axis('off')\n",
    "    if savefig==True:\n",
    "        plt.savefig('gaussian_mesh.pdf')\n",
    "    \n",
    "    return sigma,amplitude,color,wireframe,elevation,azimuthial"
   ]
  },
  {
   "cell_type": "code",
   "execution_count": 19,
   "metadata": {},
   "outputs": [
    {
     "data": {
      "application/vnd.jupyter.widget-view+json": {
       "model_id": "ac73fb1c08544934b6784c6040f9de2d",
       "version_major": 2,
       "version_minor": 0
      },
      "text/plain": [
       "interactive(children=(FloatSlider(value=0.5, description='sigma', max=1.0, min=0.1), FloatSlider(value=0.51, d…"
      ]
     },
     "metadata": {},
     "output_type": "display_data"
    }
   ],
   "source": [
    "w=widgets.interactive(plot_gaussain_mesh,sigma=(0.1,1,0.1),amplitude=(0.01,1.1,0.1),color=cmaps,elevation=(0,360,10),azimuthial=(0,360,10),wireframe=True)\n",
    "\n",
    "display(w)\n",
    "#button.on_click(plot_gaussain_mesh(*w.result[:4], elevation=w.result[4], azimuthial=w.result[5],savefig=True))\n",
    "#display(button)\n"
   ]
  },
  {
   "cell_type": "code",
   "execution_count": null,
   "metadata": {},
   "outputs": [],
   "source": []
  },
  {
   "cell_type": "code",
   "execution_count": null,
   "metadata": {},
   "outputs": [],
   "source": []
  }
 ],
 "metadata": {
  "kernelspec": {
   "display_name": "Python 3",
   "language": "python",
   "name": "python3"
  },
  "language_info": {
   "codemirror_mode": {
    "name": "ipython",
    "version": 3
   },
   "file_extension": ".py",
   "mimetype": "text/x-python",
   "name": "python",
   "nbconvert_exporter": "python",
   "pygments_lexer": "ipython3",
   "version": "3.6.6"
  }
 },
 "nbformat": 4,
 "nbformat_minor": 2
}
